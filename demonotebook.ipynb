{
 "cells": [
  {
   "attachments": {},
   "cell_type": "markdown",
   "metadata": {},
   "source": [
    "# How to API in Python\n",
    "\n",
    "Before running this notebook, install and activate the `demoenv` environment (see instructions in the README)\n"
   ]
  },
  {
   "cell_type": "code",
   "execution_count": 1,
   "metadata": {},
   "outputs": [],
   "source": [
    "# load libraries\n",
    "import requests\n",
    "import json"
   ]
  },
  {
   "attachments": {},
   "cell_type": "markdown",
   "metadata": {},
   "source": [
    "**User input (to a Python variable)**"
   ]
  },
  {
   "cell_type": "code",
   "execution_count": 2,
   "metadata": {},
   "outputs": [],
   "source": [
    "myrequest = \"https://postman-echo.com/get\""
   ]
  },
  {
   "attachments": {},
   "cell_type": "markdown",
   "metadata": {},
   "source": [
    "**Execute API request**"
   ]
  },
  {
   "cell_type": "code",
   "execution_count": 3,
   "metadata": {},
   "outputs": [],
   "source": [
    "# send a GET request to the user-indicated URL and save response to variable \"myresponse\"\n",
    "myresponse = requests.get(url=myrequest)"
   ]
  },
  {
   "cell_type": "code",
   "execution_count": 4,
   "metadata": {},
   "outputs": [],
   "source": [
    "# convert response (text format) into a (json) dictionary\n",
    "myresponse_json = json.loads(myresponse.text)"
   ]
  },
  {
   "attachments": {},
   "cell_type": "markdown",
   "metadata": {},
   "source": [
    "**Print outs**"
   ]
  },
  {
   "cell_type": "code",
   "execution_count": 5,
   "metadata": {},
   "outputs": [
    {
     "name": "stdout",
     "output_type": "stream",
     "text": [
      "Your request was:\n",
      "https://postman-echo.com/get\n"
     ]
    }
   ],
   "source": [
    "# print out user input\n",
    "print(\"Your request was:\")\n",
    "print(myrequest)"
   ]
  },
  {
   "cell_type": "code",
   "execution_count": 6,
   "metadata": {},
   "outputs": [
    {
     "name": "stdout",
     "output_type": "stream",
     "text": [
      "The reply is:\n",
      "{'args': {}, 'headers': {'x-forwarded-proto': 'https', 'x-forwarded-port': '443', 'host': 'postman-echo.com', 'x-amzn-trace-id': 'Root=1-644fcdb4-2fa7eafb1f860f9905560cf5', 'user-agent': 'python-requests/2.29.0', 'accept-encoding': 'gzip, deflate, br', 'accept': '*/*'}, 'url': 'https://postman-echo.com/get'}\n"
     ]
    }
   ],
   "source": [
    "# print out api reply\n",
    "print(\"The reply is:\")\n",
    "print(myresponse_json)"
   ]
  }
 ],
 "metadata": {
  "kernelspec": {
   "display_name": "demoenv",
   "language": "python",
   "name": "python3"
  },
  "language_info": {
   "codemirror_mode": {
    "name": "ipython",
    "version": 3
   },
   "file_extension": ".py",
   "mimetype": "text/x-python",
   "name": "python",
   "nbconvert_exporter": "python",
   "pygments_lexer": "ipython3",
   "version": "3.9.16"
  },
  "orig_nbformat": 4
 },
 "nbformat": 4,
 "nbformat_minor": 2
}
